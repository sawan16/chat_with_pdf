{
 "cells": [
  {
   "cell_type": "code",
   "execution_count": 3,
   "metadata": {},
   "outputs": [],
   "source": [
    "from langchain_community.llms import Ollama"
   ]
  },
  {
   "cell_type": "code",
   "execution_count": 4,
   "metadata": {},
   "outputs": [
    {
     "name": "stderr",
     "output_type": "stream",
     "text": [
      "C:\\Users\\sawan\\AppData\\Local\\Temp\\ipykernel_26348\\2451165596.py:1: LangChainDeprecationWarning: The class `Ollama` was deprecated in LangChain 0.3.1 and will be removed in 1.0.0. An updated version of the class exists in the :class:`~langchain-ollama package and should be used instead. To use it run `pip install -U :class:`~langchain-ollama` and import as `from :class:`~langchain_ollama import OllamaLLM``.\n",
      "  model = Ollama(model='Phi3')\n"
     ]
    }
   ],
   "source": [
    "model = Ollama(model='Phi3')"
   ]
  },
  {
   "cell_type": "code",
   "execution_count": 5,
   "metadata": {},
   "outputs": [
    {
     "data": {
      "text/plain": [
       "'Hi there! How can I help you today?'"
      ]
     },
     "execution_count": 5,
     "metadata": {},
     "output_type": "execute_result"
    }
   ],
   "source": [
    "model.invoke('hi')"
   ]
  },
  {
   "cell_type": "code",
   "execution_count": 7,
   "metadata": {},
   "outputs": [
    {
     "data": {
      "text/plain": [
       "'Life: A complex characteristic marked by growth, reproduction, functional activity, and the ability to respond to stimuli.'"
      ]
     },
     "execution_count": 7,
     "metadata": {},
     "output_type": "execute_result"
    }
   ],
   "source": [
    "from langchain_core.output_parsers import StrOutputParser\n",
    "\n",
    "parser = StrOutputParser()\n",
    "\n",
    "chain = model | parser\n",
    "\n",
    "chain.invoke(\"one line definition of life\")"
   ]
  },
  {
   "cell_type": "code",
   "execution_count": 8,
   "metadata": {},
   "outputs": [],
   "source": [
    "from langchain_community.document_loaders import PyPDFLoader"
   ]
  },
  {
   "cell_type": "code",
   "execution_count": 9,
   "metadata": {},
   "outputs": [
    {
     "data": {
      "text/plain": [
       "[Document(metadata={'source': 'ml_intro.pdf', 'page': 0}, page_content='Machine learning is a field of artificial intelligence that enables computers to learn and \\nimprove from experience without being explicitly programmed. It involves the \\ndevelopment of algorithms and statistical models that allow systems to perform specific \\ntasks effectively without relying on rule-based programming.'),\n",
       " Document(metadata={'source': 'ml_intro.pdf', 'page': 1}, page_content='One of the key advantages of machine learning is its ability to adapt and evolve over time. \\nAs machines are exposed to more data and experiences, they can identify patterns, make \\npredictions, and refine their decision -making processes. This makes machine l earning \\nparticularly useful in areas where traditional programming approaches may be \\nineffective or impractical, such as image recognition, natural language processing, and \\npredictive analytics.'),\n",
       " Document(metadata={'source': 'ml_intro.pdf', 'page': 2}, page_content='Machine learning algorithms can be broadly categorized into supervised, unsupervised, \\nand reinforcement learning. Supervised learning involves training models on labeled data \\nto make predictions or decisions, while unsupervised learning identifies patterns  and \\nstructures in unlabeled data. Reinforcement learning, on the other hand, focuses on \\nlearning through trial and error, with the goal of maximizing a reward signal.'),\n",
       " Document(metadata={'source': 'ml_intro.pdf', 'page': 3}, page_content='As machine learning continues to evolve, it has found applications in a wide range of \\nindustries, including healthcare, finance, transportation, and entertainment. From \\npersonalized product recommendations to autonomous vehicles, machine learning has \\nthe potential to revolutionize how we approach complex problems and make decisions.'),\n",
       " Document(metadata={'source': 'ml_intro.pdf', 'page': 4}, page_content='However, the widespread adoption of machine learning also raises important ethical and \\nsocietal concerns. Issues such as algorithmic bias, privacy, and the impact on \\nemployment need to be carefully addressed to ensure the responsible and equitable \\ndevelopment and deployment of these technologies.'),\n",
       " Document(metadata={'source': 'ml_intro.pdf', 'page': 5}, page_content='Overall, machine learning is a powerful and versatile field that has the potential to \\ntransform our world. As research and development in this area continue to advance, it is \\ncrucial that we explore the ethical implications and work towards the responsible  \\napplication of these technologies for the benefit of humanity.')]"
      ]
     },
     "execution_count": 9,
     "metadata": {},
     "output_type": "execute_result"
    }
   ],
   "source": [
    "loader = PyPDFLoader(\"ml_intro.pdf\")\n",
    "pages = loader.load_and_split()\n",
    "pages"
   ]
  },
  {
   "cell_type": "code",
   "execution_count": 10,
   "metadata": {},
   "outputs": [],
   "source": [
    "from langchain.prompts import PromptTemplate\n",
    "\n",
    "template = '''\n",
    "Answer the question from the given context only. If you dont know the answer, just say I dont know.\n",
    "Context: {context}\n",
    "Question: {question}\n",
    "'''\n",
    "\n",
    "prompt_template = PromptTemplate.from_template(template)"
   ]
  },
  {
   "cell_type": "code",
   "execution_count": 11,
   "metadata": {},
   "outputs": [],
   "source": [
    "chain = prompt_template | model | parser"
   ]
  },
  {
   "cell_type": "code",
   "execution_count": 12,
   "metadata": {},
   "outputs": [
    {
     "data": {
      "text/plain": [
       "'You completed your PhD and hold a title of \"Sawan Rai.\" There\\'s no additional specific educational information provided in the context. However, typically someone with a PhD would have at least a bachelor\\' extramurals degree followed by master\\'s degrees before their doctorate level studies commence.'"
      ]
     },
     "execution_count": 12,
     "metadata": {},
     "output_type": "execute_result"
    }
   ],
   "source": [
    "chain.invoke(\n",
    "    {\n",
    "        \"context\":\"I am sawan rai. I have done PhD\",\n",
    "        \"question\":\"what is my education?\"\n",
    "    }\n",
    "\n",
    ")"
   ]
  },
  {
   "cell_type": "code",
   "execution_count": 13,
   "metadata": {},
   "outputs": [],
   "source": [
    "from langchain_community.embeddings import OllamaEmbeddings"
   ]
  },
  {
   "cell_type": "code",
   "execution_count": 14,
   "metadata": {},
   "outputs": [
    {
     "name": "stderr",
     "output_type": "stream",
     "text": [
      "C:\\Users\\sawan\\AppData\\Local\\Temp\\ipykernel_26348\\562378373.py:1: LangChainDeprecationWarning: The class `OllamaEmbeddings` was deprecated in LangChain 0.3.1 and will be removed in 1.0.0. An updated version of the class exists in the :class:`~langchain-ollama package and should be used instead. To use it run `pip install -U :class:`~langchain-ollama` and import as `from :class:`~langchain_ollama import OllamaEmbeddings``.\n",
      "  embeddings = OllamaEmbeddings(model = \"phi3\")\n"
     ]
    }
   ],
   "source": [
    "embeddings = OllamaEmbeddings(model = \"phi3\")"
   ]
  },
  {
   "cell_type": "code",
   "execution_count": 15,
   "metadata": {},
   "outputs": [],
   "source": [
    "from langchain_community.vectorstores import DocArrayInMemorySearch"
   ]
  },
  {
   "cell_type": "code",
   "execution_count": 16,
   "metadata": {},
   "outputs": [
    {
     "name": "stderr",
     "output_type": "stream",
     "text": [
      "d:\\LLM_work\\chat_with_pdf\\.venv\\Lib\\site-packages\\pydantic\\_migration.py:283: UserWarning: `pydantic.error_wrappers:ValidationError` has been moved to `pydantic:ValidationError`.\n",
      "  warnings.warn(f'`{import_path}` has been moved to `{new_location}`.')\n"
     ]
    }
   ],
   "source": [
    "vector_store = DocArrayInMemorySearch.from_documents(pages, embeddings)"
   ]
  },
  {
   "cell_type": "code",
   "execution_count": 17,
   "metadata": {},
   "outputs": [
    {
     "data": {
      "text/plain": [
       "[Document(metadata={'source': 'ml_intro.pdf', 'page': 2}, page_content='Machine learning algorithms can be broadly categorized into supervised, unsupervised, \\nand reinforcement learning. Supervised learning involves training models on labeled data \\nto make predictions or decisions, while unsupervised learning identifies patterns  and \\nstructures in unlabeled data. Reinforcement learning, on the other hand, focuses on \\nlearning through trial and error, with the goal of maximizing a reward signal.'),\n",
       " Document(metadata={'source': 'ml_intro.pdf', 'page': 5}, page_content='Overall, machine learning is a powerful and versatile field that has the potential to \\ntransform our world. As research and development in this area continue to advance, it is \\ncrucial that we explore the ethical implications and work towards the responsible  \\napplication of these technologies for the benefit of humanity.'),\n",
       " Document(metadata={'source': 'ml_intro.pdf', 'page': 3}, page_content='As machine learning continues to evolve, it has found applications in a wide range of \\nindustries, including healthcare, finance, transportation, and entertainment. From \\npersonalized product recommendations to autonomous vehicles, machine learning has \\nthe potential to revolutionize how we approach complex problems and make decisions.'),\n",
       " Document(metadata={'source': 'ml_intro.pdf', 'page': 1}, page_content='One of the key advantages of machine learning is its ability to adapt and evolve over time. \\nAs machines are exposed to more data and experiences, they can identify patterns, make \\npredictions, and refine their decision -making processes. This makes machine l earning \\nparticularly useful in areas where traditional programming approaches may be \\nineffective or impractical, such as image recognition, natural language processing, and \\npredictive analytics.')]"
      ]
     },
     "execution_count": 17,
     "metadata": {},
     "output_type": "execute_result"
    }
   ],
   "source": [
    "retriever = vector_store.as_retriever()\n",
    "retriever.invoke(\"tell me something about machine learning in short.\")"
   ]
  },
  {
   "cell_type": "code",
   "execution_count": 18,
   "metadata": {},
   "outputs": [],
   "source": [
    "from operator import itemgetter"
   ]
  },
  {
   "cell_type": "code",
   "execution_count": 21,
   "metadata": {},
   "outputs": [
    {
     "data": {
      "text/plain": [
       "'I\\'m sorry, but I can only provide information based on the given context about machine learning algorithms from \\'ml_intro.pdf\\'. The question \"What is life?\" cannot be answered within this specific context as it falls outside its scope and pertains to philosophy or biology rather than being discussed in these documents.'"
      ]
     },
     "execution_count": 21,
     "metadata": {},
     "output_type": "execute_result"
    }
   ],
   "source": [
    "chain = (\n",
    "    {\n",
    "        \"context\": itemgetter(\"question\") | retriever,\n",
    "        \"question\": itemgetter(\"question\")\n",
    "    }\n",
    "    | prompt_template\n",
    "    | model\n",
    "    | parser\n",
    ")\n",
    "\n",
    "chain.invoke({\"question\":\"what is life?\"})"
   ]
  },
  {
   "cell_type": "code",
   "execution_count": 22,
   "metadata": {},
   "outputs": [],
   "source": [
    "questions = [\"what is machine learning?\", \"types of machine learning.\", \"what is life?\"]"
   ]
  },
  {
   "cell_type": "code",
   "execution_count": 23,
   "metadata": {},
   "outputs": [
    {
     "name": "stdout",
     "output_type": "stream",
     "text": [
      "question: what is machine learning?\n",
      "answer: Machine learning, as described in document [Document(metadata={'source': 'ml_intro.pdf', 'page': 0}, page_content='Machine learning is a field of artificial intelligence that enables computers to learn and improve from experience without being explicitly programmed. It involves the development of algorithms and statistical models that allow systems to perform specific tasks effectively without relying on rule-based programming.')], is an area in artificial intelligence where machines are designed to automatically improve their performance through learning, by finding patterns or deriving rules based on past experiences with data. This field avoids explicit instructions for every task the machine needs to accomplish and instead focuses on enabling algorithms to learn from experience using statistical methods and computational models.\n",
      "question: types of machine learning.\n",
      "answer: Supervised, unsupervised, and reinforcement learning are all types of machine learning. Additionally, there is also semi-supervised learning that combines elements from both supervised and unsupervised learning. However, the document does not specifically mention this as a type in its content provided above for context extraction.\n",
      "question: what is life?\n",
      "answer: I dont know.\n"
     ]
    }
   ],
   "source": [
    "for question in questions:\n",
    "    print(f\"question: {question}\")\n",
    "    print(f\"answer: {chain.invoke({'question':question})}\")"
   ]
  },
  {
   "cell_type": "code",
   "execution_count": 26,
   "metadata": {},
   "outputs": [
    {
     "name": "stdout",
     "output_type": "stream",
     "text": [
      "Machine learning is a field of artificial intelligence that enables computers to learn and improve from experience without being explicitly programmed. It involves the development of algorithms and statistical models that allow systems to perform specific tasks effectively without relying on rule-based programming. Additionally, it's about developing programs that can access data, use it for machine learning algorithm training purposes, make informed decisions with high accuracy, learn from mistakes, improve over time etc., all while reducing the need for human intervention and increasing efficiency in automated processes across various industries such as healthcare, finance, transportation, entertainment etc."
     ]
    }
   ],
   "source": [
    "for c in chain.stream({\"question\":\"what is machine learning?\"}):\n",
    "    print(c, end=\"\")"
   ]
  },
  {
   "cell_type": "code",
   "execution_count": null,
   "metadata": {},
   "outputs": [],
   "source": []
  }
 ],
 "metadata": {
  "kernelspec": {
   "display_name": "Python 3 (ipykernel)",
   "language": "python",
   "name": "python3"
  },
  "language_info": {
   "codemirror_mode": {
    "name": "ipython",
    "version": 3
   },
   "file_extension": ".py",
   "mimetype": "text/x-python",
   "name": "python",
   "nbconvert_exporter": "python",
   "pygments_lexer": "ipython3",
   "version": "3.12.4"
  }
 },
 "nbformat": 4,
 "nbformat_minor": 2
}
